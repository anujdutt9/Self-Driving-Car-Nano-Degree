{
 "cells": [
  {
   "cell_type": "code",
   "execution_count": null,
   "metadata": {
    "collapsed": true
   },
   "outputs": [],
   "source": [
    "# Import Dependencies\n",
    "import os\n",
    "import cv2\n",
    "import glob\n",
    "import pickle\n",
    "import numpy as np\n",
    "import matplotlib.pyplot as plt\n",
    "from matplotlib.image import imread, imsave\n",
    "%matplotlib inline"
   ]
  },
  {
   "cell_type": "code",
   "execution_count": null,
   "metadata": {
    "collapsed": true
   },
   "outputs": [],
   "source": [
    "# Define Directories\n",
    "chessboardCornerImages = './chessboardCorners'\n",
    "undistortedImages = './undistortedImages'\n",
    "roadEdges = './roadEdges'\n",
    "warpedRoadImages = './warpedRoad'"
   ]
  },
  {
   "cell_type": "markdown",
   "metadata": {},
   "source": [
    "## Step-1: Camera Caliberation\n",
    "\n",
    "\n",
    "#### 1. Find Chessboard Corners\n",
    "\n",
    "##### Input: \n",
    "\n",
    "Grayscale Images\n",
    "\n",
    "##### Output: \n",
    "\n",
    "ret = True/False, \n",
    "\n",
    "Corners = Array of corner values as (x,y)\n",
    "\n",
    "#### 2. Draw Chessboard Corners\n",
    "\n",
    "##### Input: \n",
    "\n",
    "Original Image\n",
    "\n",
    "Number of Rows and Columns (row,col)\n",
    "\n",
    "Corners and ret values from \"1\".\n",
    "\n",
    "\n",
    "##### Output: \n",
    "\n",
    "Image with Corners Plotted on top\n",
    "\n",
    "#### 3. Do Camera Caliberation\n",
    "\n",
    "##### Input:\n",
    "\n",
    "Object Points\n",
    "\n",
    "Image Points\n",
    "\n",
    "Shape of Grayscale Image\n",
    "\n",
    "##### Output:\n",
    "\n",
    "ret = True/False\n",
    "\n",
    "mtx => Camera Matrix\n",
    "\n",
    "dist => array of values\n",
    "\n",
    "rvecs => Rotational Vector\n",
    "\n",
    "tvecs => Translational Vector"
   ]
  },
  {
   "cell_type": "code",
   "execution_count": null,
   "metadata": {},
   "outputs": [],
   "source": [
    "# Read All Images and Find Corners\n",
    "\n",
    "# Define corners in image\n",
    "rows = 9\n",
    "cols = 6\n",
    "\n",
    "# # Map 2D Coordinates of Image to 3D coordinates on Chessboard\n",
    "# 3-D Points in real world\n",
    "# (x,y,0)\n",
    "objPoints = []\n",
    "\n",
    "# 2-D points in the image\n",
    "# (x,y)\n",
    "imgPoints = []\n",
    "\n",
    "# Array to store names of images in which corners were not found\n",
    "no_corners = []\n",
    "\n",
    "# Create Object Points\n",
    "# Since, cols = 8, rows = 6 in chessboard image\n",
    "objp = np.zeros(shape=(rows * cols,3), dtype=np.float32)\n",
    "objp[:,:2] = np.mgrid[0:9,0:6].T.reshape(-1,2)\n",
    "\n",
    "# Read in all Images\n",
    "images = glob.glob('./camera_cal/calibration*.jpg')\n",
    "\n",
    "# Figure Size for Plotting Images\n",
    "fig, ax = plt.subplots(nrows=6, ncols=3, figsize=(20,30))\n",
    "#plt.subplots_adjust(wspace=None, hspace=None)\n",
    "#plt.tight_layout()\n",
    "i = 0\n",
    "j = 0\n",
    "\n",
    "for image in images:   \n",
    "    # Read the Image File\n",
    "    img = imread(image)\n",
    "    \n",
    "    # Conver Image to Grayscale Image\n",
    "    gray = cv2.cvtColor(img, cv2.COLOR_RGB2GRAY)\n",
    "    \n",
    "    # Find Chessboard Corners\n",
    "    ret, corners = cv2.findChessboardCorners(gray, (rows,cols), None)\n",
    "    \n",
    "    # If ret=True, append images and objectpoints\n",
    "    if ret == True:\n",
    "        imgPoints.append(corners)\n",
    "        objPoints.append(objp)\n",
    "        \n",
    "        # Draw Corners on Chessboard Images\n",
    "        img = cv2.drawChessboardCorners(img, (8,6), corners, ret)       \n",
    "        \n",
    "        # Plot Images with Chessboard Corners Detected\n",
    "        ax[i,j].imshow(img)\n",
    "        ax[i,j].set_axis_off()\n",
    "        ax[i,j].set_title(image)\n",
    "        #ax[i,j].set_aspect('equal')\n",
    "        \n",
    "        j += 1\n",
    "        \n",
    "        if j == 3:\n",
    "            i += 1\n",
    "            j = 0\n",
    "    else:\n",
    "        no_corners.append(image)\n",
    "\n",
    "plt.suptitle('Images with Chessboard Corners Detected', fontsize=18)\n",
    "\n",
    "        \n",
    "# Plot Images in which the Corners were not Found\n",
    "fig1, ax1 = plt.subplots(nrows=1, ncols=3, figsize=(20,30))\n",
    "plt.suptitle('Images with Chessborad Corners Not Detected', fontsize=18)\n",
    "plt.tight_layout()\n",
    "k = 0\n",
    "for img in no_corners:\n",
    "    im = imread(img)\n",
    "    ax1[k].imshow(im)\n",
    "    ax1[k].set_axis_off()\n",
    "    ax1[k].set_title(image)\n",
    "    #ax1[k].set_aspect('equal')\n",
    "    k += 1\n",
    "\n",
    "\n",
    "# Print Overall Dataset Performance\n",
    "print('Total Number of Images: ',len(images))\n",
    "print ('Corners found on Images: ',len(imgPoints))\n",
    "print('Percentage of Caliberation Images used: {} %'.format((len(imgPoints)/len(images)) * 100))"
   ]
  },
  {
   "cell_type": "code",
   "execution_count": null,
   "metadata": {
    "collapsed": true
   },
   "outputs": [],
   "source": [
    "# Camera Caliberation\n",
    "\n",
    "# Read in a Sample Image\n",
    "img = imread('./camera_cal/calibration1.jpg')\n",
    "\n",
    "img_size = (img.shape[1],img.shape[0])\n",
    "\n",
    "# Caliberate Camera\n",
    "ret, mtx, dist, rvecs, tvecs = cv2.calibrateCamera(objPoints, imgPoints, img_size, None, None)"
   ]
  },
  {
   "cell_type": "markdown",
   "metadata": {},
   "source": [
    "## Step-2: Image Undistortion\n",
    "\n",
    "#### 1. Undistort Image:\n",
    "\n",
    "##### Inputs:\n",
    "\n",
    "img => Input Image\n",
    "\n",
    "mtx => Camera Matrix\n",
    "\n",
    "dist => Distortion Coefficients\n",
    "\n",
    "##### Output:\n",
    "\n",
    "dst => Matrix"
   ]
  },
  {
   "cell_type": "code",
   "execution_count": null,
   "metadata": {
    "collapsed": true
   },
   "outputs": [],
   "source": [
    "# Function to Undistort Images\n",
    "def undistort_image(image, cam_matrix, distort_coeff):\n",
    "    dst = cv2.undistort(img, cam_matrix, distort_coeff, None, cam_matrix)\n",
    "    return dst"
   ]
  },
  {
   "cell_type": "code",
   "execution_count": null,
   "metadata": {
    "collapsed": true
   },
   "outputs": [],
   "source": [
    "# Check Undistortion on Input Image\n",
    "undistorted_img = undistort_image(img, mtx, dist)"
   ]
  },
  {
   "cell_type": "code",
   "execution_count": null,
   "metadata": {},
   "outputs": [],
   "source": [
    "# Plot Original and Undistorted Images\n",
    "fig, ax = plt.subplots(nrows=1, ncols=2, figsize=(20,30))\n",
    "ax[0].imshow(img)\n",
    "ax[0].set_title('Original Image')\n",
    "ax[0].set_axis_off()\n",
    "\n",
    "ax[1].imshow(undistorted_img)\n",
    "ax[1].set_title('Undistorted Image')\n",
    "ax[1].set_axis_off()"
   ]
  },
  {
   "cell_type": "code",
   "execution_count": null,
   "metadata": {},
   "outputs": [],
   "source": [
    "# Check Undistortion on Road Images\n",
    "img = imread('./test_images/test1.jpg')\n",
    "\n",
    "img_size = (img.shape[1],img.shape[0])\n",
    "\n",
    "# Caliberate Camera\n",
    "ret, mtx, dist, rvecs, tvecs = cv2.calibrateCamera(objPoints, imgPoints, img_size, None, None)\n",
    "\n",
    "# Check Undistortion on Input Image\n",
    "undistorted_img = undistort_image(img, mtx, dist)\n",
    "\n",
    "# Plot Original and Undistorted Images\n",
    "fig, ax = plt.subplots(nrows=1, ncols=2, figsize=(20,30))\n",
    "ax[0].imshow(img)\n",
    "ax[0].set_title('Original Image')\n",
    "ax[0].set_axis_off()\n",
    "\n",
    "ax[1].imshow(undistorted_img)\n",
    "ax[1].set_title('Undistorted Image')\n",
    "ax[1].set_axis_off()"
   ]
  },
  {
   "cell_type": "markdown",
   "metadata": {},
   "source": [
    "## Step-3: Apply Color & Gradient Threshold\n",
    "\n",
    "**Aim:** Create Binary Image using Color & Gradient Threshold so that the Lane Lines are Clearly Visible.\n",
    "\n",
    "**Options for Color Threshold:**\n",
    "\n",
    "1. RGB\n",
    "\n",
    "2. HSV\n",
    "\n",
    "3. HLS\n",
    "\n",
    "=> thresh_min, thresh_max"
   ]
  },
  {
   "cell_type": "markdown",
   "metadata": {},
   "source": [
    "### 1. Histogram Equalization\n",
    "\n",
    "**Aim:** To improve contrast of Image before processing it."
   ]
  },
  {
   "cell_type": "code",
   "execution_count": null,
   "metadata": {},
   "outputs": [],
   "source": [
    "# Function to Implement Histogram Equalization to Enhance Contrast of an Image\n",
    "def histogram_eq(img):\n",
    "    img[:, :, 0] = cv2.equalizeHist(img[:, :, 0])\n",
    "    img[:, :, 1] = cv2.equalizeHist(img[:, :, 1])\n",
    "    img[:, :, 2] = cv2.equalizeHist(img[:, :, 2])\n",
    "    return img\n",
    "\n",
    "# Example\n",
    "img = imread('./test_images/test1.jpg')\n",
    "fig,ax = plt.subplots(nrows=1, ncols=2, figsize=(30,20))\n",
    "ax[0].imshow(img)\n",
    "ax[0].set_title('Original Image')\n",
    "ax[0].set_axis_off()\n",
    "\n",
    "ax[1].imshow(Histogram_eq(img))\n",
    "ax[1].set_title('Histogram Equalized Image')\n",
    "ax[1].set_axis_off()"
   ]
  },
  {
   "cell_type": "markdown",
   "metadata": {},
   "source": [
    "Since, from the lectures we have seen that the S channel from the HLS provides the best performance for the lane detection, we use that and get out the S channel information from the Input Images."
   ]
  },
  {
   "cell_type": "code",
   "execution_count": null,
   "metadata": {
    "collapsed": true
   },
   "outputs": [],
   "source": [
    "# Get S channel Information from Images HLS\n",
    "def sChannelImage(image):\n",
    "    hls = cv2.cvtColor(image, cv2.COLOR_RGB2HLS)\n",
    "    s_channel = hls[:,:,2]\n",
    "    return s_channel\n",
    "\n",
    "def sThreshold(image, thresh_S = (170,255)):\n",
    "    hls = cv2.cvtColor(img, cv2.COLOR_RGB2HLS)\n",
    "    s_channel = hls[:,:,2]\n",
    "    S_threshold = np.zeros_like(s_channel)\n",
    "    S_threshold[(s_channel > thresh_S[0]) & (s_channel <= thresh_S[1])] = 1\n",
    "    return S_threshold"
   ]
  },
  {
   "cell_type": "code",
   "execution_count": null,
   "metadata": {},
   "outputs": [],
   "source": [
    "# Example\n",
    "img = imread('./test_images/test1.jpg')\n",
    "fig,(ax1,ax2) = plt.subplots(nrows=1, ncols=2, figsize=(30,20))\n",
    "ax1.imshow(img)\n",
    "ax1.set_title('Original Image', fontsize=18)\n",
    "ax1.set_axis_off()\n",
    "\n",
    "ax2.imshow(sChannelImage(img))\n",
    "ax2.set_title('S Channel Image', fontsize=18)\n",
    "ax2.set_axis_off()"
   ]
  },
  {
   "cell_type": "code",
   "execution_count": null,
   "metadata": {},
   "outputs": [],
   "source": [
    "# S-Channel With Histogram Equalized Image\n",
    "# Example\n",
    "img = imread('./test_images/test1.jpg')\n",
    "fig,(ax1, ax2, ax3) = plt.subplots(nrows=1, ncols=3, figsize=(30,20))\n",
    "\n",
    "ax1.imshow(img)\n",
    "ax1.set_title('Original Image', fontsize=18)\n",
    "ax1.set_axis_off()\n",
    "\n",
    "img = histogram_eq(img)\n",
    "ax2.imshow(img)\n",
    "ax2.set_title('Histogram Equalized Image', fontsize=18)\n",
    "ax2.set_axis_off()\n",
    "\n",
    "ax3.imshow(sChannelImage(img))\n",
    "ax3.set_title('S Channel Image Image', fontsize=18)\n",
    "ax3.set_axis_off()"
   ]
  },
  {
   "cell_type": "code",
   "execution_count": null,
   "metadata": {
    "collapsed": true
   },
   "outputs": [],
   "source": [
    "# Sobel \"x\" Gradient\n",
    "def sobelGradientImage(img, thresh_Sobel = (20,100), sobel_kernel = 11):\n",
    "    sobel_x = cv2.Sobel(gray, cv2.CV_64F, 1, 0)\n",
    "    sobelx_abs = np.absolute(sobel_x)\n",
    "    scaled_sobel = np.uint8(255*sobelx_abs/np.max(sobelx_abs))\n",
    "    \n",
    "    # Sobel Threshold\n",
    "    Sob_threshold = np.zeros_like(scaled_sobel)\n",
    "    Sob_threshold[(scaled_sobel > thresh_Sobel[0]) & (scaled_sobel <= thresh_Sobel[1])] = 1\n",
    "    return Sob_threshold"
   ]
  },
  {
   "cell_type": "code",
   "execution_count": null,
   "metadata": {},
   "outputs": [],
   "source": [
    "# Combined Color Threshold\n",
    "# S-Channel + Sobel\n",
    "img = imread('./test_images/test1.jpg')\n",
    "gray = cv2.cvtColor(img,cv2.COLOR_RGB2GRAY)\n",
    "\n",
    "S_threshold = sThreshold(img)\n",
    "Sob_threshold = sobelGradientImage(gray)\n",
    "color_binary = np.dstack(( np.zeros_like(S_threshold), S_threshold, Sob_threshold)) * 255"
   ]
  },
  {
   "cell_type": "code",
   "execution_count": null,
   "metadata": {
    "collapsed": true
   },
   "outputs": [],
   "source": [
    "combined_binary = np.zeros_like(S_threshold)\n",
    "combined_binary[(Sob_threshold == 1) | (S_threshold == 1)] = 1"
   ]
  },
  {
   "cell_type": "code",
   "execution_count": null,
   "metadata": {},
   "outputs": [],
   "source": [
    "f, (ax1, ax2) = plt.subplots(1, 2, figsize=(20,10))\n",
    "ax1.set_title('Stacked thresholds')\n",
    "ax1.imshow(color_binary)\n",
    "\n",
    "ax2.set_title('Combined S channel and gradient thresholds')\n",
    "ax2.imshow(combined_binary, cmap='gray')"
   ]
  },
  {
   "cell_type": "code",
   "execution_count": null,
   "metadata": {
    "collapsed": true
   },
   "outputs": [],
   "source": []
  }
 ],
 "metadata": {
  "kernelspec": {
   "display_name": "Python 3",
   "language": "python",
   "name": "python3"
  },
  "language_info": {
   "codemirror_mode": {
    "name": "ipython",
    "version": 3
   },
   "file_extension": ".py",
   "mimetype": "text/x-python",
   "name": "python",
   "nbconvert_exporter": "python",
   "pygments_lexer": "ipython3",
   "version": "3.5.2"
  }
 },
 "nbformat": 4,
 "nbformat_minor": 2
}
